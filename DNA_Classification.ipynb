{
  "nbformat": 4,
  "nbformat_minor": 0,
  "metadata": {
    "colab": {
      "name": "DNA Classification",
      "provenance": [],
      "collapsed_sections": [],
      "authorship_tag": "ABX9TyPNaObWv1tTxDbHogx6uP65",
      "include_colab_link": true
    },
    "kernelspec": {
      "name": "python3",
      "display_name": "Python 3"
    },
    "language_info": {
      "name": "python"
    }
  },
  "cells": [
    {
      "cell_type": "markdown",
      "metadata": {
        "id": "view-in-github",
        "colab_type": "text"
      },
      "source": [
        "<a href=\"https://colab.research.google.com/github/APooja/APooja.github.io/blob/master/DNA_Classification.ipynb\" target=\"_parent\"><img src=\"https://colab.research.google.com/assets/colab-badge.svg\" alt=\"Open In Colab\"/></a>"
      ]
    },
    {
      "cell_type": "code",
      "execution_count": 2,
      "metadata": {
        "colab": {
          "base_uri": "https://localhost:8080/"
        },
        "id": "7ZIVLf5h6Cwx",
        "outputId": "93379440-d540-4af7-b779-6202a173b6d7"
      },
      "outputs": [
        {
          "output_type": "stream",
          "name": "stdout",
          "text": [
            "Python3.7.13 (default, Apr 24 2022, 01:04:09) \n",
            "[GCC 7.5.0]\n",
            "Python1.21.6\n",
            "Python1.0.2\n",
            "Python1.3.5\n"
          ]
        }
      ],
      "source": [
        "import sys\n",
        "import numpy\n",
        "import sklearn\n",
        "import pandas\n",
        "print('Python{}'.format(sys.version))\n",
        "print('Python{}'.format(numpy.__version__))\n",
        "print('Python{}'.format(sklearn.__version__))\n",
        "print('Python{}'.format(pandas.__version__))"
      ]
    },
    {
      "cell_type": "code",
      "source": [
        "import numpy as np\n",
        "import pandas as pd\n",
        "\n",
        "# import the uci Molecular Biology (Promoter Gene Sequences) Data Set\n",
        "url = 'https://archive.ics.uci.edu/ml/machine-learning-databases/molecular-biology/promoter-gene-sequences/promoters.data'\n",
        "names = ['Class', 'id', 'Sequence']\n",
        "data = pd.read_csv(url, names = names)"
      ],
      "metadata": {
        "id": "PMUE4zC88dWa"
      },
      "execution_count": 4,
      "outputs": []
    },
    {
      "cell_type": "code",
      "source": [
        "print(data.iloc[0])"
      ],
      "metadata": {
        "colab": {
          "base_uri": "https://localhost:8080/"
        },
        "id": "vaPOMBWp-ES1",
        "outputId": "5a8bc55e-2f6d-48cf-add1-7c56f95b6061"
      },
      "execution_count": 5,
      "outputs": [
        {
          "output_type": "stream",
          "name": "stdout",
          "text": [
            "Class                                                       +\n",
            "id                                                        S10\n",
            "Sequence    \\t\\ttactagcaatacgcttgcgttcggtggttaagtatgtataat...\n",
            "Name: 0, dtype: object\n"
          ]
        }
      ]
    },
    {
      "cell_type": "code",
      "source": [
        ""
      ],
      "metadata": {
        "id": "6A31Ne7h-R6S"
      },
      "execution_count": null,
      "outputs": []
    }
  ]
}