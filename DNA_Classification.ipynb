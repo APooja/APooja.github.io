{
  "nbformat": 4,
  "nbformat_minor": 0,
  "metadata": {
    "colab": {
      "name": "DNA Classification",
      "provenance": [],
      "collapsed_sections": [],
      "authorship_tag": "ABX9TyNYaaX/liQx0fTFCpKNdiRt",
      "include_colab_link": true
    },
    "kernelspec": {
      "name": "python3",
      "display_name": "Python 3"
    },
    "language_info": {
      "name": "python"
    }
  },
  "cells": [
    {
      "cell_type": "markdown",
      "metadata": {
        "id": "view-in-github",
        "colab_type": "text"
      },
      "source": [
        "<a href=\"https://colab.research.google.com/github/APooja/APooja.github.io/blob/master/DNA_Classification.ipynb\" target=\"_parent\"><img src=\"https://colab.research.google.com/assets/colab-badge.svg\" alt=\"Open In Colab\"/></a>"
      ]
    },
    {
      "cell_type": "code",
      "execution_count": 2,
      "metadata": {
        "colab": {
          "base_uri": "https://localhost:8080/"
        },
        "id": "7ZIVLf5h6Cwx",
        "outputId": "93379440-d540-4af7-b779-6202a173b6d7"
      },
      "outputs": [
        {
          "output_type": "stream",
          "name": "stdout",
          "text": [
            "Python3.7.13 (default, Apr 24 2022, 01:04:09) \n",
            "[GCC 7.5.0]\n",
            "Python1.21.6\n",
            "Python1.0.2\n",
            "Python1.3.5\n"
          ]
        }
      ],
      "source": [
        "import sys\n",
        "import numpy\n",
        "import sklearn\n",
        "import pandas\n",
        "print('Python{}'.format(sys.version))\n",
        "print('Python{}'.format(numpy.__version__))\n",
        "print('Python{}'.format(sklearn.__version__))\n",
        "print('Python{}'.format(pandas.__version__))"
      ]
    },
    {
      "cell_type": "code",
      "source": [
        ""
      ],
      "metadata": {
        "id": "PMUE4zC88dWa"
      },
      "execution_count": null,
      "outputs": []
    }
  ]
}